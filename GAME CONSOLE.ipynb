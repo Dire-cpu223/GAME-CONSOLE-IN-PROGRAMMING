{
 "cells": [
  {
   "cell_type": "code",
   "execution_count": 4,
   "metadata": {},
   "outputs": [
    {
     "name": "stdout",
     "output_type": "stream",
     "text": [
      "===================================\n",
      "     G L A S S   B R I D G E       \n",
      "===================================\n",
      "         |       |       |         \n",
      "         | GLASS | GLASS |         \n",
      "         |_______|_______|         \n",
      "         |       |       |         \n",
      "         | GLASS | GLASS |         \n",
      "         |_______|_______|         \n",
      "         |       |       |         \n",
      "         | GLASS | GLASS |         \n",
      "         |_______|_______|         \n",
      "          Cross Carefully...       \n",
      "Welcome to the Glass Bridge Game!\n",
      "There are 10 steps in the bridge.\n",
      "You need to cross the bridge without stepping on a broken glass.\n",
      "PLAY GAME WELL OR DIE\n",
      "Step 1: Choose a panel (1 or 2): Step 1 was broken! you're DEAD!\n",
      "GAME OVER! DO BETTER NEXT TIME.\n"
     ]
    }
   ],
   "source": [
    "import random\n",
    "\n",
    "def glass_bridge_logo():\n",
    "    print(\"===================================\")\n",
    "    print(\"   STARTING POINT OF THE BRIDGE    \")\n",
    "    print(\"===================================\")\n",
    "    print(\"         |       |       |         \")\n",
    "    print(\"         | GLASS | GLASS |         \")\n",
    "    print(\"         |_______|_______|         \")\n",
    "    print(\"         |       |       |         \")\n",
    "    print(\"         | GLASS | GLASS |         \")\n",
    "    print(\"         |_______|_______|         \")\n",
    "    print(\"         |       |       |         \")\n",
    "    print(\"         | GLASS | GLASS |         \")\n",
    "    print(\"         |_______|_______|         \")\n",
    "    print(\"          Cross Carefully...       \")\n",
    "\n",
    "glass_bridge_logo()\n",
    "\n",
    "def step_on_panel(step, total_steps):\n",
    "    return random.choice([True, False])\n",
    "\n",
    "def main():\n",
    "    total_steps = 10  \n",
    "    current_step = 1\n",
    "    game_over = False\n",
    "\n",
    "    print(\"Welcome to the Glass Bridge Game!\")\n",
    "    print(f\"There are {total_steps} steps in the bridge.\")\n",
    "    print(\"You need to cross the bridge without stepping on a broken glass.\")\n",
    "    print(\"PLAY GAME WELL OR DIE\")\n",
    "\n",
    "    while current_step <= total_steps and not game_over:\n",
    "        print(f\"Step {current_step}: Choose a panel (1 or 2): \", end=\"\")\n",
    "        choice = input()  \n",
    "        \n",
    "        if step_on_panel(current_step, total_steps):\n",
    "            print(f\"Step {current_step} was safe! You got lucky.\")\n",
    "        else:\n",
    "            print(f\"Step {current_step} was broken! you're DEAD!\")\n",
    "            game_over = True\n",
    "        \n",
    "        current_step += 1\n",
    "\n",
    "    if not game_over:\n",
    "        print(\"Congratulations! You got lucky to cross this bridge!\")\n",
    "    else:\n",
    "        print(\"GAME OVER! DO BETTER NEXT TIME.\")\n",
    "\n",
    "if __name__ == \"__main__\":\n",
    "    main()\n"
   ]
  }
 ],
 "metadata": {
  "kernelspec": {
   "display_name": "Python 3",
   "language": "python",
   "name": "python3"
  },
  "language_info": {
   "codemirror_mode": {
    "name": "ipython",
    "version": 3
   },
   "file_extension": ".py",
   "mimetype": "text/x-python",
   "name": "python",
   "nbconvert_exporter": "python",
   "pygments_lexer": "ipython3",
   "version": "3.11.9"
  }
 },
 "nbformat": 4,
 "nbformat_minor": 2
}
